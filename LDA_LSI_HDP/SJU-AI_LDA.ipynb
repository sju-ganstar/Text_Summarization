{
 "cells": [
  {
   "cell_type": "markdown",
   "metadata": {},
   "source": [
    "# 크롤링!"
   ]
  },
  {
   "cell_type": "code",
   "execution_count": 2,
   "metadata": {},
   "outputs": [],
   "source": [
    "from urllib.request import urlopen\n",
    "from bs4 import BeautifulSoup\n",
    "\n",
    "# 아래의 함수는 네이버 기사의 주소를 넣어주면 기사의 제목과 본문을 반환하는 함수입니다.\n",
    "\n",
    "def get_naver_news(url):# url : 기사의 주소\n",
    "    html = urlopen(url)\n",
    "    source = html.read()\n",
    "    html.close()\n",
    "    soup = BeautifulSoup(source, 'lxml', from_encoding='utf-8')\n",
    "    title = soup.findAll('div', {'id':'main_content'})[0].findAll('div', {'class':'article_info'})[0].find('h3',{'id':'articleTitle'}).text\n",
    "    main_text = soup.findAll('div', {'id':'articleBodyContents'})[0].get_text(\" \", strip=True)\n",
    "    main_text = main_text[63:]\n",
    "    \n",
    "    return title, main_text  # title : 기사의 제목, main_text : 기사의 본문"
   ]
  },
  {
   "cell_type": "code",
   "execution_count": 3,
   "metadata": {},
   "outputs": [],
   "source": [
    "# 위 함수에 기사 주소를 입력해 줍니다.\n",
    "title, main_text = get_naver_news('https://news.naver.com/main/read.nhn?mode=LSD&mid=sec&oid=022&aid=0003297750&sid1=001')"
   ]
  },
  {
   "cell_type": "code",
   "execution_count": 4,
   "metadata": {},
   "outputs": [
    {
     "name": "stdout",
     "output_type": "stream",
     "text": [
      "자녀 10명 중 8명 “부모 의료비 때문에 소득 감소”\n"
     ]
    }
   ],
   "source": [
    "# 기사 제목을 프린트합니다.\n",
    "print(title)"
   ]
  },
  {
   "cell_type": "code",
   "execution_count": 5,
   "metadata": {},
   "outputs": [
    {
     "name": "stdout",
     "output_type": "stream",
     "text": [
      "부모의 의료비를 지원한 자녀 10명 중 8명이 가계소득 감소를 경험한 것으로 조사됐다. 20일 삼성생명 은퇴연구소의 ‘고령자 의료소비 실태 및 인식조사’ 보고서에 따르면 부모 의료비를 지원하던 자녀 중 82%의 가계소득이 감소했다. 가계소득 감소폭은 10∼25%가 38%로 가장 많았고, 이어 25∼50%가 20%, 10% 미만이 17%였다. 연구소는 지난 6월 5일부터 11일까지 최근 5년 내 부모의 의료비로 1000만원 이상 지출하고 65세 이상 부모를 부양하고 있는 성인 400명을 조사됐다. 부모의 의료비를 마련하는 방법으로 응답자 등 자녀의 지원을 받았다는 답은 모두 47%였다. 반면 보험금 활용은 18%, 보험금 외 금융자산은 11%, 부동산과 기타자산은 8%에 그쳤다. 부모를 지원한 자녀는 부모의 의료비를 마련하기 위해 금융자산을 활용했다는 답이 46%로 가장 많았다. 이어 생활비 지출을 줄였다는 응답이 26%, 부채를 활용했다는 응답 10%였다. 부모 스스로 의료비를 준비하지 못한 이유에 대해 자녀들은 ‘노후 의료비 필요성을 인식하지 못했다’(30%)고 답했다. ‘부족한 노후 생활비’는 25%, ‘손·자녀 양육 및 교육비’는 20%였다. 응답자 부모의 평균 투병기간은 6.1년이고 치료·간병비 등 평균 의료비는 3228만원으로 나타났다. 특히 투병기간이 10년 이상인 경우 투병기간 2년 이하와 비교해 의료비 비중은 58%에서 50%로 감소하는 반면, 약제비(7→12%)와 건강기능식품·보조기구 구입비용(8→15%) 등 간접 의료비가 늘어나는 것으로 조사됐다. 조명기 삼성생명 은퇴연구소 수석연구원은 “부모의 노후의료비 때문에 부모 자신은 물론 자녀의 가계와 가족관계까지 영향을 끼친다”며 “투병기간이 길어지는 추세를 감안해 치료비뿐만 아니라 간접비용도 준비해야 한다”고 말했다. 백소용 기자 swinia@segye.com ⓒ 세상을 보는 눈, 글로벌 미디어 세계일보\n"
     ]
    }
   ],
   "source": [
    "print(main_text)"
   ]
  },
  {
   "cell_type": "code",
   "execution_count": 6,
   "metadata": {},
   "outputs": [],
   "source": [
    "# url_list에 다른 기사를 추가하시면 그 기사에 대한 결과도 보실수 있습니다.\n",
    "url_list = ['https://news.naver.com/main/read.nhn?mode=LSD&mid=sec&oid=022&aid=0003297750&sid1=001', \n",
    "            'https://news.naver.com/main/read.nhn?mode=LS2D&mid=shm&sid1=101&sid2=310&oid=469&aid=0000322904',\n",
    "            'https://news.naver.com/main/ranking/read.nhn?mid=etc&sid1=111&rankingType=popular_day&oid=119&aid=0002277201&date=20180822&type=1&rankingSeq=6&rankingSectionId=101']"
   ]
  },
  {
   "cell_type": "code",
   "execution_count": 7,
   "metadata": {},
   "outputs": [],
   "source": [
    "# url_list에 있는 기사를 읽어오고 본문만 news_list에 저장합니다.\n",
    "news_list = []\n",
    "for url in url_list:\n",
    "    title, main_text = get_naver_news(url)\n",
    "    news_list.append((main_text))"
   ]
  },
  {
   "cell_type": "code",
   "execution_count": 8,
   "metadata": {},
   "outputs": [
    {
     "name": "stdout",
     "output_type": "stream",
     "text": [
      "GS25, 케이뱅크와 정맥 인증 ATM 서비스 22일 서울 종로구에 위치한 GS25 편의점에서 케이뱅크 직원들이 손바닥 정맥 본인인증을 통해 입ㆍ출금과 이체를 할 수 있는 ‘손바닥 뱅킹 서비스’를 소개하고 있다. 케이뱅크 제공 GS리테일이 운영하는 편의점 GS25는 인터넷전문은행 케이뱅크와 손잡고 카드나 휴대전화 없이 손바닥 정맥 인증만으로 입출금 및 이체를 할 수 있는 ‘손바닥 뱅킹’ 서비스를 22일 시작한다고 밝혔다. 손바닥 뱅킹은 바이오인증 기능이 있는 GS25의1,700여대 스마트ATM에서 이용 가능하다. GS25는스마트ATM을 연말까지 2,700대로 늘리고, 2020년까지는 5,000대로 확대할 계획이다. 손바닥 뱅킹을 이용하려면 먼저 케이뱅크 앱에서 실명확인을 한 뒤 GS25 점포에 있는 스마트ATM에서자신의 손바닥 정맥을 등록하면 된다. 한 번 등록하면 카드나 휴대전화 등 아무것도 필요 없이 GS25 스마트ATM에서 손바닥 인증과 비밀번호 입력만으로 24시간 수수료 없이 입출금 및 이체 거래가 가능하다. 스마트ATM이 설치된 점포는 GS25 홈페이지나 모바일 애플리케이션 ‘나만의 냉장고’ 또는 케이뱅크 홈페이지 링크를 통해 확인할 수 있다. 손바닥 정맥 인증은 개인마다 고유한 혈관 특성이 있어 본인을 가장 확실하게 인증할 수 있고, 지문이나 홍채보다 인증 정확도와 보안성이 높은 것으로 알려져 있다. 이효섭 GS리테일 서비스상품팀장은“3대 시중 은행과 저축은행중앙회 등 다양한 은행과 제휴하며 금융 플랫폼 역할을하는 GS25가은행 영업점을 제외하고는 국내 최초로 손바닥 바이오 인증 서비스를 시작하게 돼 고객이 편리하게 이용할 수 있게 됐다”고 말했다. 고경석 기자 kave@hankookilbo.com ▶한국일보 [페이스북] [카카오 친구맺기] ▶ 네이버 채널에서 한국일보를 구독하세요! [ⓒ 한국일보( hankookilbo.com ), 무단 전재 및 재배포 금지]\n"
     ]
    }
   ],
   "source": [
    "# 두번째 기사 본문입니다.\n",
    "print(news_list[1])"
   ]
  },
  {
   "cell_type": "code",
   "execution_count": 9,
   "metadata": {},
   "outputs": [
    {
     "name": "stdout",
     "output_type": "stream",
     "text": [
      "['GS/Alpha', '25/Number', ',/Punctuation', '케이/Noun', '뱅크/Noun', '와/Josa', '정맥/Noun', '인증/Noun', 'ATM/Alpha', '서비스/Noun', '22일/Number', '서울/Noun', '종로구/Noun', '에/Josa', '위치/Noun', '한/Josa', 'GS/Alpha', '25/Number', '편의점/Noun', '에서/Josa', '케이/Noun', '뱅크/Noun', '직원/Noun', '들/Suffix', '이/Josa', '손바닥/Noun', '정맥/Noun', '본인/Noun', '인증/Noun', '을/Josa']\n"
     ]
    }
   ],
   "source": [
    "from konlpy.tag import Okt\n",
    "\n",
    "# token화를 합니다.\n",
    "t = Okt()\n",
    "pos = lambda d: [\"/\".join(p) for p in t.pos(d, stem=True, norm=True)]\n",
    "news_ko = [pos(news) for news in news_list]\n",
    "\n",
    "# 30개의 토큰만 프린트해서 확인합니다.\n",
    "print(news_ko[1][:30])"
   ]
  },
  {
   "cell_type": "code",
   "execution_count": 10,
   "metadata": {},
   "outputs": [],
   "source": [
    "# 토큰을 자연수로 바꿔주는 역할을 합니다.\n",
    "from gensim import corpora\n",
    "\n",
    "dictionary_ko = corpora.Dictionary(news_ko)"
   ]
  },
  {
   "cell_type": "code",
   "execution_count": 11,
   "metadata": {},
   "outputs": [
    {
     "name": "stdout",
     "output_type": "stream",
     "text": [
      "첫번째 10개 단어의 TF-IDF 벡터 : [(0, 2), (1, 3), (2, 5), (3, 3), (4, 13), (5, 2), (6, 2), (7, 1), (8, 1), (9, 1)]\n",
      "상위 10개 TF-IDF 벡터 : [(203, 16), (4, 13), (126, 12), (169, 12), (121, 11), (96, 10), (163, 10), (167, 9), (165, 7), (170, 7)]\n",
      "가장 많이 등장한 토큰 : 말/Noun\n"
     ]
    }
   ],
   "source": [
    "# TF-IDF를 계산합니다.\n",
    "from gensim import models\n",
    "tf_ko = [dictionary_ko.doc2bow(text) for text in news_ko]\n",
    "tfidf_model_ko = models.TfidfModel(tf_ko)\n",
    "tfidf_ko = tfidf_model_ko[tf_ko]\n",
    "\n",
    "\n",
    "print('첫번째 10개 단어의 TF-IDF 벡터 :', tfidf_ko.corpus[0][:10])\n",
    "print('상위 10개 TF-IDF 벡터 :', sorted(tfidf_ko.corpus[0], key=lambda x: x[1], reverse=True)[:10])\n",
    "print('가장 많이 등장한 토큰 :', dictionary_ko.get(100))"
   ]
  },
  {
   "cell_type": "code",
   "execution_count": 12,
   "metadata": {},
   "outputs": [
    {
     "data": {
      "text/plain": [
       "[(1, 0.04546183362302555),\n",
       " (2, 0.20529891921188154),\n",
       " (5, 0.03030788908201703),\n",
       " (6, 0.08211956768475262),\n",
       " (7, 0.04105978384237631),\n",
       " (8, 0.04105978384237631),\n",
       " (9, 0.04105978384237631),\n",
       " (10, 0.04105978384237631),\n",
       " (11, 0.015153944541008515),\n",
       " (12, 0.015153944541008515)]"
      ]
     },
     "execution_count": 12,
     "metadata": {},
     "output_type": "execute_result"
    }
   ],
   "source": [
    "tfidf_ko[0][:10]"
   ]
  },
  {
   "cell_type": "code",
   "execution_count": 13,
   "metadata": {},
   "outputs": [
    {
     "name": "stdout",
     "output_type": "stream",
     "text": [
      "['부모/Noun', '의/Josa', '의료/Noun', '비/Noun', '를/Josa', '지원/Noun', '한/Josa', '자녀/Noun', '10/Number', '명/Noun']\n",
      "['부모/Noun', '자녀/Noun', ',/Foreign', '비/Noun', '의료/Noun', '가계/Noun', '간/Suffix', '감소/Noun', '병기/Noun', '응답/Noun']\n"
     ]
    }
   ],
   "source": [
    "def tfidf_to_words(index, n_words):\n",
    "    id_list = [sorted(tfidf_ko[index], key=lambda x: x[1], reverse=True)[:n_words][i][0] for i in range(n_words)]\n",
    "    word_list = [dictionary_ko[id_list[i]] for i in range(n_words)]\n",
    "    return word_list \n",
    "\n",
    "print(news_ko[0][:10])\n",
    "print(tfidf_to_words(0, 10))"
   ]
  },
  {
   "cell_type": "code",
   "execution_count": 14,
   "metadata": {},
   "outputs": [
    {
     "name": "stdout",
     "output_type": "stream",
     "text": [
      "(0, '0.003*\"부모/Noun\" + 0.003*\"자녀/Noun\" + 0.002*\",/Foreign\" + 0.002*\"의료/Noun\" + 0.002*\"병기/Noun\"')\n",
      "(1, '0.003*\"GS/Alpha\" + 0.003*\"손바닥/Noun\" + 0.003*\"인증/Noun\" + 0.003*\"뱅크/Noun\" + 0.003*\"ATM/Alpha\"')\n",
      "(2, '0.002*\"세액/Noun\" + 0.002*\"공제/Noun\" + 0.002*\"사업자/Noun\" + 0.002*\"부모/Noun\" + 0.002*\"공/Modifier\"')\n"
     ]
    }
   ],
   "source": [
    "# LDA\n",
    "ntopics, nwords = 3, 5\n",
    "\n",
    "import numpy as np; np.random.seed(20)  # optional\n",
    "lda_ko = models.ldamodel.LdaModel(tfidf_ko, id2word=dictionary_ko,\n",
    "                                  num_topics=ntopics)\n",
    "\n",
    "print(lda_ko.print_topics(num_topics=ntopics, num_words=nwords)[0])\n",
    "print(lda_ko.print_topics(num_topics=ntopics, num_words=nwords)[1])\n",
    "print(lda_ko.print_topics(num_topics=ntopics, num_words=nwords)[2])"
   ]
  },
  {
   "cell_type": "code",
   "execution_count": 15,
   "metadata": {},
   "outputs": [
    {
     "data": {
      "text/plain": [
       "'부모의 의료비를 지원한 자녀 10명 중 8명이 가계소득 감소를 경험한 것으로 조사됐다. 20일 삼성생명 은퇴연구소의 ‘고령자 의료소비 실태 및 인식조사’ 보고서에 따르면 부모 의료비를 지원하던 자녀 중 82%의 가계소득이 감소했다. 가계소득 감소폭은 10∼25%가 38%로 가장 많았고, 이어 25∼50%가 20%, 10% 미만이 17%였다. 연구소는 지난 6월 5일부터 11일까지 최근 5년 내 부모의 의료비로 1000만원 이상 지출하고 65세 이상 부모를 부양하고 있는 성인 400명을 조사됐다. 부모의 의료비를 마련하는 방법으로 응답자 등 자녀의 지원을 받았다는 답은 모두 47%였다. 반면 보험금 활용은 18%, 보험금 외 금융자산은 11%, 부동산과 기타자산은 8%에 그쳤다. 부모를 지원한 자녀는 부모의 의료비를 마련하기 위해 금융자산을 활용했다는 답이 46%로 가장 많았다. 이어 생활비 지출을 줄였다는 응답이 26%, 부채를 활용했다는 응답 10%였다. 부모 스스로 의료비를 준비하지 못한 이유에 대해 자녀들은 ‘노후 의료비 필요성을 인식하지 못했다’(30%)고 답했다. ‘부족한 노후 생활비’는 25%, ‘손·자녀 양육 및 교육비’는 20%였다. 응답자 부모의 평균 투병기간은 6.1년이고 치료·간병비 등 평균 의료비는 3228만원으로 나타났다. 특히 투병기간이 10년 이상인 경우 투병기간 2년 이하와 비교해 의료비 비중은 58%에서 50%로 감소하는 반면, 약제비(7→12%)와 건강기능식품·보조기구 구입비용(8→15%) 등 간접 의료비가 늘어나는 것으로 조사됐다. 조명기 삼성생명 은퇴연구소 수석연구원은 “부모의 노후의료비 때문에 부모 자신은 물론 자녀의 가계와 가족관계까지 영향을 끼친다”며 “투병기간이 길어지는 추세를 감안해 치료비뿐만 아니라 간접비용도 준비해야 한다”고 말했다. 백소용 기자 swinia@segye.com ⓒ 세상을 보는 눈, 글로벌 미디어 세계일보'"
      ]
     },
     "execution_count": 15,
     "metadata": {},
     "output_type": "execute_result"
    }
   ],
   "source": [
    "news_list[0]"
   ]
  },
  {
   "cell_type": "code",
   "execution_count": 16,
   "metadata": {},
   "outputs": [
    {
     "name": "stdout",
     "output_type": "stream",
     "text": [
      "부모의 의료비를 지원한 자녀 10명 중 8명이 가계소득 감소를 경험한 것으로 조사됐다.\n",
      "부모의 의료비를 마련하는 방법으로 응답자 등 자녀의 지원을 받았다는 답은 모두 47%였다.\n",
      "부모를 지원한 자녀는 부모의 의료비를 마련하기 위해 금융자산을 활용했다는 답이 46%로 가장 많았다.\n"
     ]
    }
   ],
   "source": [
    "from textrankr import TextRank\n",
    "\n",
    "textrank = TextRank(news_list[0])\n",
    "# 3개의 요약문을 프린트합니다.\n",
    "print(textrank.summarize(3))"
   ]
  },
  {
   "cell_type": "code",
   "execution_count": 21,
   "metadata": {},
   "outputs": [],
   "source": [
    "from gensim.models.coherencemodel import CoherenceModel"
   ]
  },
  {
   "cell_type": "code",
   "execution_count": 29,
   "metadata": {},
   "outputs": [
    {
     "name": "stdout",
     "output_type": "stream",
     "text": [
      "nan\n"
     ]
    }
   ],
   "source": [
    "cm = CoherenceModel(model=lda_ko, texts=news_list[1], dictionary=dictionary_ko, coherence='c_v')\n",
    "coherence = cm.get_coherence()\n",
    "print(coherence)"
   ]
  }
 ],
 "metadata": {
  "kernelspec": {
   "display_name": "Python 3",
   "language": "python",
   "name": "python3"
  },
  "language_info": {
   "codemirror_mode": {
    "name": "ipython",
    "version": 3
   },
   "file_extension": ".py",
   "mimetype": "text/x-python",
   "name": "python",
   "nbconvert_exporter": "python",
   "pygments_lexer": "ipython3",
   "version": "3.5.6"
  }
 },
 "nbformat": 4,
 "nbformat_minor": 2
}
